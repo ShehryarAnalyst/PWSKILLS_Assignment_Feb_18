{
 "cells": [
  {
   "cell_type": "markdown",
   "id": "96faa576",
   "metadata": {},
   "source": [
    "## Assignments  Question"
   ]
  },
  {
   "cell_type": "markdown",
   "id": "dc674bec",
   "metadata": {},
   "source": [
    "__Q1. What is an API? Give an example, where an API is used in real life ?__\n",
    "\n",
    "__Ans)__ An __API (Application Programming Interface)__ is a set of protocols, tools, and routines that enable software applications to communicate with each other.\n",
    "\n",
    "An example of an API being used in real life is the integration of Google Maps into a third-party application, such as a ridesharing app like Uber. The Uber app uses the Google Maps API to provide real-time location and routing information to both the driver and the rider, making the transportation process more efficient and seamless."
   ]
  },
  {
   "cell_type": "markdown",
   "id": "f2b0df84",
   "metadata": {},
   "source": [
    "__Q2. Give advantages and disadvantages of using API?__\n",
    "\n",
    "__Ans)__  \n",
    "\n",
    "__Advantages of using an API:__ <br>\n",
    "\n",
    "* Facilitates communication and integration between different software applications.\n",
    "* Allows for easier and faster development of software applications.\n",
    "* Can provide access to valuable data or services that might otherwise be difficult to obtain.\n",
    "* Enables developers to build on existing functionality rather than starting from scratch.\n",
    "* Improves efficiency and productivity by automating tasks and reducing the need for manual input.\n",
    "<br>\n",
    "\n",
    "__Disadvantages of using an API:__\n",
    "\n",
    "* Requires technical expertise to implement and maintain.\n",
    "* Can be subject to changes or updates that could break compatibility with existing software.\n",
    "* Exposes potential security vulnerabilities if not properly secured.\n",
    "* May be subject to usage limits or fees imposed by the API provide."
   ]
  },
  {
   "cell_type": "markdown",
   "id": "5e245566",
   "metadata": {},
   "source": [
    "__Q3. What is a Web API? Differentiate between API and Web API?__\n",
    "\n",
    "__Ans)__ A __Web API,__ also known as a __web service API,__ is a type of API that is specifically designed to be used over the internet, typically through web protocols such as HTTP. It allows software applications to interact with each other using web-based communication methods such as REST (Representational State Transfer) or SOAP (Simple Object Access Protocol).\n",
    "\n",
    "The __main difference__ between API and Web API is that while an API can refer to any type of interface that enables communication between software applications, a Web API specifically refers to APIs that use web-based protocols to enable communication over the internet. Web APIs are commonly used in web development to facilitate interactions between web applications and external services or data sources.\n",
    "\n",
    "In summary, all Web APIs are APIs, but not all APIs are Web APIs. Web APIs are a specific type of API that is used over the internet using web protocols"
   ]
  },
  {
   "cell_type": "markdown",
   "id": "cf0a8b9c",
   "metadata": {},
   "source": [
    "__Q4. Explain REST and SOAP Architecture. Mention shortcomings of SOAP?__\n",
    "\n",
    "__Ans)__ REST is a lightweight, scalable, and flexible architecture that uses HTTP methods to access and manipulate resources, while SOAP is a more rigid and heavyweight architecture that uses XML messages to exchange information. SOAP can be more complex and cumbersome to work with than REST and is often not as scalable or performant, but offers advanced features such as built-in security and transaction support. <br>\n",
    "<br>\n",
    "One of the main shortcomings of SOAP is that it can be more complex and cumbersome to work with than REST. SOAP messages are typically larger than REST messages due to the verbose XML format, and SOAP APIs can be more difficult to implement and maintain due to the strict message exchange rules."
   ]
  },
  {
   "cell_type": "markdown",
   "id": "038a0cc7",
   "metadata": {},
   "source": [
    "__Q5. Differentiate between REST and SOAP?__\n",
    "\n",
    "__Ans)__ __REST (Representational State Transfer)__ and __SOAP (Simple Object Access Protocol)__ are two different architectural styles for building web service APIs.\n",
    "\n",
    "REST is a lightweight and flexible architecture that uses HTTP methods like GET, POST, PUT, and DELETE to access and manipulate resources. It typically returns data in JSON or XML format and follows the principles of client-server communication and statelessness.\n",
    "\n",
    "SOAP, on the other hand, is a more rigid and heavyweight architecture that uses XML messages to exchange information. It follows the principles of remote procedure calls and uses a predefined set of rules for message exchange. SOAP messages can be sent via HTTP, SMTP, or JMS and typically require additional libraries or toolkits for implementation.\n",
    "\n",
    "In summary, REST is a simpler and more popular architecture that uses standard web protocols, while SOAP is a more complex architecture that offers advanced features but is less scalable and more difficult to implement."
   ]
  },
  {
   "cell_type": "markdown",
   "id": "518c9721",
   "metadata": {},
   "source": [
    "-------------------------------------------------------------------------------------------- __End__----------------------------------------------------------------------------------------------------------------"
   ]
  }
 ],
 "metadata": {
  "kernelspec": {
   "display_name": "Python 3 (ipykernel)",
   "language": "python",
   "name": "python3"
  },
  "language_info": {
   "codemirror_mode": {
    "name": "ipython",
    "version": 3
   },
   "file_extension": ".py",
   "mimetype": "text/x-python",
   "name": "python",
   "nbconvert_exporter": "python",
   "pygments_lexer": "ipython3",
   "version": "3.9.12"
  },
  "varInspector": {
   "cols": {
    "lenName": 16,
    "lenType": 16,
    "lenVar": 40
   },
   "kernels_config": {
    "python": {
     "delete_cmd_postfix": "",
     "delete_cmd_prefix": "del ",
     "library": "var_list.py",
     "varRefreshCmd": "print(var_dic_list())"
    },
    "r": {
     "delete_cmd_postfix": ") ",
     "delete_cmd_prefix": "rm(",
     "library": "var_list.r",
     "varRefreshCmd": "cat(var_dic_list()) "
    }
   },
   "types_to_exclude": [
    "module",
    "function",
    "builtin_function_or_method",
    "instance",
    "_Feature"
   ],
   "window_display": false
  }
 },
 "nbformat": 4,
 "nbformat_minor": 5
}
